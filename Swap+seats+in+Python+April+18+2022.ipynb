{
 "cells": [
  {
   "cell_type": "code",
   "execution_count": 21,
   "metadata": {
    "collapsed": false
   },
   "outputs": [],
   "source": [
    "import pandas as pd\n",
    "import numpy as np\n",
    "import os\n",
    "import sqlite3\n"
   ]
  },
  {
   "cell_type": "code",
   "execution_count": 97,
   "metadata": {
    "collapsed": false
   },
   "outputs": [],
   "source": [
    "os.getcwd()\n",
    "df = pd.read_csv(\"~/Desktop/Sample Data.csv\")"
   ]
  },
  {
   "cell_type": "code",
   "execution_count": 98,
   "metadata": {
    "collapsed": false
   },
   "outputs": [
    {
     "data": {
      "text/html": [
       "<div>\n",
       "<style scoped>\n",
       "    .dataframe tbody tr th:only-of-type {\n",
       "        vertical-align: middle;\n",
       "    }\n",
       "\n",
       "    .dataframe tbody tr th {\n",
       "        vertical-align: top;\n",
       "    }\n",
       "\n",
       "    .dataframe thead th {\n",
       "        text-align: right;\n",
       "    }\n",
       "</style>\n",
       "<table border=\"1\" class=\"dataframe\">\n",
       "  <thead>\n",
       "    <tr style=\"text-align: right;\">\n",
       "      <th></th>\n",
       "      <th>id</th>\n",
       "      <th>student</th>\n",
       "    </tr>\n",
       "  </thead>\n",
       "  <tbody>\n",
       "    <tr>\n",
       "      <th>0</th>\n",
       "      <td>1</td>\n",
       "      <td>Mary</td>\n",
       "    </tr>\n",
       "    <tr>\n",
       "      <th>1</th>\n",
       "      <td>2</td>\n",
       "      <td>Jones</td>\n",
       "    </tr>\n",
       "    <tr>\n",
       "      <th>2</th>\n",
       "      <td>3</td>\n",
       "      <td>Nicky</td>\n",
       "    </tr>\n",
       "    <tr>\n",
       "      <th>3</th>\n",
       "      <td>4</td>\n",
       "      <td>Fang</td>\n",
       "    </tr>\n",
       "    <tr>\n",
       "      <th>4</th>\n",
       "      <td>5</td>\n",
       "      <td>Leya</td>\n",
       "    </tr>\n",
       "  </tbody>\n",
       "</table>\n",
       "</div>"
      ],
      "text/plain": [
       "   id student\n",
       "0   1    Mary\n",
       "1   2   Jones\n",
       "2   3   Nicky\n",
       "3   4    Fang\n",
       "4   5    Leya"
      ]
     },
     "execution_count": 98,
     "metadata": {},
     "output_type": "execute_result"
    }
   ],
   "source": [
    "df.head()"
   ]
  },
  {
   "cell_type": "code",
   "execution_count": 23,
   "metadata": {
    "collapsed": false
   },
   "outputs": [
    {
     "name": "stdout",
     "output_type": "stream",
     "text": [
      "True\n"
     ]
    }
   ],
   "source": [
    "def myfunc():\n",
    "  return lambda a : a%2==1\n",
    "\n",
    "mydoubler = myfunc()\n",
    "\n",
    "print(mydoubler(11))"
   ]
  },
  {
   "cell_type": "code",
   "execution_count": 24,
   "metadata": {
    "collapsed": false
   },
   "outputs": [
    {
     "name": "stdout",
     "output_type": "stream",
     "text": [
      "True\n"
     ]
    }
   ],
   "source": [
    "mydoubler = lambda a:a%2==1\n",
    "print(mydoubler(11))"
   ]
  },
  {
   "cell_type": "code",
   "execution_count": null,
   "metadata": {
    "collapsed": false
   },
   "outputs": [],
   "source": []
  },
  {
   "cell_type": "code",
   "execution_count": 41,
   "metadata": {
    "collapsed": false
   },
   "outputs": [
    {
     "data": {
      "text/plain": [
       "17"
      ]
     },
     "execution_count": 41,
     "metadata": {},
     "output_type": "execute_result"
    }
   ],
   "source": [
    "df.shape[0]"
   ]
  },
  {
   "cell_type": "code",
   "execution_count": 186,
   "metadata": {
    "collapsed": false
   },
   "outputs": [],
   "source": [
    "df['temp']=df.id%2"
   ]
  },
  {
   "cell_type": "code",
   "execution_count": 220,
   "metadata": {
    "collapsed": false
   },
   "outputs": [
    {
     "data": {
      "text/plain": [
       "17"
      ]
     },
     "execution_count": 220,
     "metadata": {},
     "output_type": "execute_result"
    }
   ],
   "source": [
    "df = pd.read_csv(\"~/Desktop/Sample Data.csv\")\n",
    "df['id'].iloc[-1]\n"
   ]
  },
  {
   "cell_type": "code",
   "execution_count": 233,
   "metadata": {
    "collapsed": false
   },
   "outputs": [
    {
     "name": "stdout",
     "output_type": "stream",
     "text": [
      "    id student\n",
      "1    1   Jones\n",
      "0    2    Mary\n",
      "3    3    Fang\n",
      "2    4   Nicky\n",
      "5    5  Nikita\n",
      "4    6    Leya\n",
      "7    7   Laura\n",
      "6    8   Elisa\n",
      "9    9  Bernie\n",
      "8   10    Luis\n",
      "11  11   Shiro\n",
      "10  12   Debby\n",
      "13  13    Lucy\n",
      "12  14   Linda\n",
      "15  15    Ting\n",
      "14  16    Grey\n",
      "16  17    Rose\n"
     ]
    },
    {
     "name": "stderr",
     "output_type": "stream",
     "text": [
      "/Users/sanduhr/anaconda/lib/python3.6/site-packages/pandas/core/indexing.py:205: SettingWithCopyWarning: \n",
      "A value is trying to be set on a copy of a slice from a DataFrame\n",
      "\n",
      "See the caveats in the documentation: http://pandas.pydata.org/pandas-docs/stable/user_guide/indexing.html#returning-a-view-versus-a-copy\n",
      "  self._setitem_with_indexer(indexer, value)\n"
     ]
    }
   ],
   "source": [
    "#Method 1 -----\n",
    "df = pd.read_csv(\"~/Desktop/Sample Data.csv\")\n",
    "df['temp']=df.id%2\n",
    "def my_function(var1, var2):\n",
    "    if df['id'].iloc[-1]%2==1:\n",
    "        df[var1]=np.where(df[var2]==1,df[var1]+1,df[var1]-1)\n",
    "        #df.iloc[-1,0]=df.iloc[-1,0]-1\n",
    "        df['id'].iloc[-1] = df['id'].iloc[-1]-1\n",
    "    else:\n",
    "        df[var1]=np.where(df[var2]==1,df[var1]+1,df[var1]-1)\n",
    "    return df\n",
    "df=my_function('id','temp')\n",
    "df=df.sort_values(by='id',ascending=True)\n",
    "df=df.drop(columns='temp')\n",
    "print(df)"
   ]
  },
  {
   "cell_type": "code",
   "execution_count": null,
   "metadata": {
    "collapsed": false
   },
   "outputs": [],
   "source": []
  },
  {
   "cell_type": "code",
   "execution_count": 243,
   "metadata": {
    "collapsed": false
   },
   "outputs": [
    {
     "name": "stdout",
     "output_type": "stream",
     "text": [
      "    id student  temp\n",
      "0    2    Mary     1\n",
      "1    1   Jones     0\n",
      "2    4   Nicky     1\n",
      "3    3    Fang     0\n",
      "4    6    Leya     1\n",
      "5    5  Nikita     0\n",
      "6    8   Elisa     1\n",
      "7    7   Laura     0\n",
      "8   10    Luis     1\n",
      "9    9  Bernie     0\n",
      "10  12   Debby     1\n",
      "11  11   Shiro     0\n",
      "12  14   Linda     1\n",
      "13  13    Lucy     0\n",
      "14  16    Grey     1\n",
      "15  15    Ting     0\n",
      "16  18    Rose     1\n",
      "    id student  temp\n",
      "0    2    Mary     1\n",
      "1    1   Jones     0\n",
      "2    4   Nicky     1\n",
      "3    3    Fang     0\n",
      "4    6    Leya     1\n",
      "5    5  Nikita     0\n",
      "6    8   Elisa     1\n",
      "7    7   Laura     0\n",
      "8   10    Luis     1\n",
      "9    9  Bernie     0\n",
      "10  12   Debby     1\n",
      "11  11   Shiro     0\n",
      "12  14   Linda     1\n",
      "13  13    Lucy     0\n",
      "14  16    Grey     1\n",
      "15  15    Ting     0\n",
      "16  17    Rose     1\n"
     ]
    },
    {
     "name": "stderr",
     "output_type": "stream",
     "text": [
      "/Users/sanduhr/anaconda/lib/python3.6/site-packages/pandas/core/indexing.py:205: SettingWithCopyWarning: \n",
      "A value is trying to be set on a copy of a slice from a DataFrame\n",
      "\n",
      "See the caveats in the documentation: http://pandas.pydata.org/pandas-docs/stable/user_guide/indexing.html#returning-a-view-versus-a-copy\n",
      "  self._setitem_with_indexer(indexer, value)\n"
     ]
    }
   ],
   "source": [
    "#Method 2 ----\n",
    "df = pd.read_csv(\"~/Desktop/Sample Data.csv\")\n",
    "df['temp']=df.id%2\n",
    "\n",
    "def my_fun_2(x, var1, var2):\n",
    "    if  df['id'].iloc[-1]%2==1:\n",
    "        if  x[var2]==1:\n",
    "            x[var1]=x[var1]+1\n",
    "        \n",
    "        else:\n",
    "            x[var1]=x[var1]-1\n",
    "        \n",
    "    else:\n",
    "        if  x[var2]==1:\n",
    "            x[var1]=x[var1]+1\n",
    "        else:\n",
    "            x[var1]=x[var1]-1\n",
    "    return x\n",
    "df_2 = df.apply(lambda x: my_fun_2(x, 'id', 'temp'), axis=1)\n",
    "print (df_2)\n",
    "\n",
    "if  df['id'].iloc[-1]%2==1:\n",
    "    df_2['id'].iloc[-1] = df_2['id'].iloc[-1]-1\n",
    "print(df_2)\n"
   ]
  },
  {
   "cell_type": "code",
   "execution_count": null,
   "metadata": {
    "collapsed": true
   },
   "outputs": [],
   "source": []
  },
  {
   "cell_type": "code",
   "execution_count": null,
   "metadata": {
    "collapsed": true
   },
   "outputs": [],
   "source": []
  },
  {
   "cell_type": "code",
   "execution_count": null,
   "metadata": {
    "collapsed": false
   },
   "outputs": [],
   "source": []
  },
  {
   "cell_type": "code",
   "execution_count": null,
   "metadata": {
    "collapsed": true
   },
   "outputs": [],
   "source": []
  }
 ],
 "metadata": {
  "kernelspec": {
   "display_name": "Python 3",
   "language": "python",
   "name": "python3"
  },
  "language_info": {
   "codemirror_mode": {
    "name": "ipython",
    "version": 3
   },
   "file_extension": ".py",
   "mimetype": "text/x-python",
   "name": "python",
   "nbconvert_exporter": "python",
   "pygments_lexer": "ipython3",
   "version": "3.6.0"
  }
 },
 "nbformat": 4,
 "nbformat_minor": 2
}
